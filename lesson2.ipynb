{
 "cells": [
  {
   "cell_type": "code",
   "execution_count": 2,
   "metadata": {},
   "outputs": [
    {
     "name": "stdout",
     "output_type": "stream",
     "text": [
      "hello world\n"
     ]
    }
   ],
   "source": [
    "# ‘hello world’\n",
    "print(\"hello world\")"
   ]
  },
  {
   "cell_type": "code",
   "execution_count": 3,
   "metadata": {},
   "outputs": [
    {
     "name": "stdout",
     "output_type": "stream",
     "text": [
      "Hallo, world\n"
     ]
    }
   ],
   "source": [
    "print(\"Hallo, world\")"
   ]
  },
  {
   "cell_type": "code",
   "execution_count": 4,
   "metadata": {},
   "outputs": [
    {
     "name": "stdout",
     "output_type": "stream",
     "text": [
      "First Line Second Line\n",
      "\n",
      "\n",
      "Third Line!"
     ]
    }
   ],
   "source": [
    "print('First Line', end=' ')\n",
    "print('Second Line', end='\\n\\n\\n')\n",
    "print('Third Line', end='!')"
   ]
  },
  {
   "cell_type": "code",
   "execution_count": 13,
   "metadata": {},
   "outputs": [
    {
     "name": "stdout",
     "output_type": "stream",
     "text": [
      "Third Line\tThird Line\n"
     ]
    }
   ],
   "source": [
    "print('Third Line', end='\\t')\n",
    "print('Third Line')"
   ]
  },
  {
   "cell_type": "code",
   "execution_count": 24,
   "metadata": {},
   "outputs": [
    {
     "name": "stdout",
     "output_type": "stream",
     "text": [
      "#########\n",
      "#\t#\n",
      "#\t#\n",
      "#\t#\n",
      "#\t#\n",
      "#\t#\n",
      "#########\n"
     ]
    }
   ],
   "source": [
    "print('#########')\n",
    "print('#', end='\\t')\n",
    "print('#')\n",
    "print('#', end='\\t')\n",
    "print('#')\n",
    "print('#', end='\\t')\n",
    "print('#')\n",
    "print('#', end='\\t')\n",
    "print('#')\n",
    "print('#', end='\\t')\n",
    "print('#')\n",
    "print('#########')"
   ]
  },
  {
   "cell_type": "code",
   "execution_count": 23,
   "metadata": {},
   "outputs": [
    {
     "name": "stdout",
     "output_type": "stream",
     "text": [
      "#\t#\n",
      "#\t#\n",
      "#\t#\n",
      "#########\n",
      "#\t#\n",
      "#\t#\n",
      "#\t#\n"
     ]
    }
   ],
   "source": [
    "print('#', end='\\t')\n",
    "print('#')\n",
    "print('#', end='\\t')\n",
    "print('#')\n",
    "print('#', end='\\t')\n",
    "print('#')\n",
    "print('#########')\n",
    "print('#', end='\\t')\n",
    "print('#')\n",
    "print('#', end='\\t')\n",
    "print('#')\n",
    "print('#', end='\\t')\n",
    "print('#')"
   ]
  },
  {
   "cell_type": "code",
   "execution_count": 25,
   "metadata": {},
   "outputs": [
    {
     "name": "stdout",
     "output_type": "stream",
     "text": [
      "Привіт, світ!\n"
     ]
    }
   ],
   "source": [
    "print (\"Привіт, світ!\")"
   ]
  },
  {
   "cell_type": "code",
   "execution_count": null,
   "metadata": {},
   "outputs": [],
   "source": [
    "\"Добрий день <ім'я>! <day> - ідеальний день для вивчення петону »."
   ]
  },
  {
   "cell_type": "code",
   "execution_count": 51,
   "metadata": {},
   "outputs": [
    {
     "name": "stdout",
     "output_type": "stream",
     "text": [
      "Добрий день Василь! Неділя - ідеальний день для вивчення петону\n"
     ]
    }
   ],
   "source": [
    "name = \"Василь\"\n",
    "day = \" Неділя\"\n",
    "print (\"Добрий день\", name, end='!')\n",
    "print (day, \"- ідеальний день для вивчення петону\")"
   ]
  },
  {
   "cell_type": "code",
   "execution_count": 73,
   "metadata": {},
   "outputs": [
    {
     "name": "stdout",
     "output_type": "stream",
     "text": [
      "Василь Романюк\n"
     ]
    }
   ],
   "source": [
    "name = \"Василь\" \n",
    "name += \" Романюк\"\n",
    "print (name)"
   ]
  },
  {
   "cell_type": "code",
   "execution_count": 78,
   "metadata": {},
   "outputs": [
    {
     "name": "stdout",
     "output_type": "stream",
     "text": [
      "8.8\n",
      "-2.3999999999999995\n",
      "0.5714285714285715\n",
      "17.919999999999998\n",
      "674.2793796624868\n",
      "0.0\n",
      "3.2\n"
     ]
    }
   ],
   "source": [
    "a, b = 3.2, 5.6\n",
    "print(a+b)\n",
    "print(a-b)\n",
    "print(a/b)\n",
    "print(a*b)\n",
    "print(a**b)\n",
    "print(a//b)\n",
    "print(a%b)\n",
    "\n",
    "\n"
   ]
  }
 ],
 "metadata": {
  "kernelspec": {
   "display_name": "Python 3",
   "language": "python",
   "name": "python3"
  },
  "language_info": {
   "codemirror_mode": {
    "name": "ipython",
    "version": 3
   },
   "file_extension": ".py",
   "mimetype": "text/x-python",
   "name": "python",
   "nbconvert_exporter": "python",
   "pygments_lexer": "ipython3",
   "version": "3.8.2"
  }
 },
 "nbformat": 4,
 "nbformat_minor": 4
}
