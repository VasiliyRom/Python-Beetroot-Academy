{
 "cells": [
  {
   "cell_type": "code",
   "execution_count": 2,
   "metadata": {},
   "outputs": [
    {
     "name": "stdout",
     "output_type": "stream",
     "text": [
      "hello world\n"
     ]
    }
   ],
   "source": [
    "# ‘hello world’\n",
    "print(\"hello world\")"
   ]
  },
  {
   "cell_type": "code",
   "execution_count": 3,
   "metadata": {},
   "outputs": [
    {
     "name": "stdout",
     "output_type": "stream",
     "text": [
      "Hallo, world\n"
     ]
    }
   ],
   "source": [
    "print(\"Hallo, world\")"
   ]
  },
  {
   "cell_type": "code",
   "execution_count": 4,
   "metadata": {},
   "outputs": [
    {
     "name": "stdout",
     "output_type": "stream",
     "text": [
      "First Line Second Line\n",
      "\n",
      "\n",
      "Third Line!"
     ]
    }
   ],
   "source": [
    "print('First Line', end=' ')\n",
    "print('Second Line', end='\\n\\n\\n')\n",
    "print('Third Line', end='!')"
   ]
  },
  {
   "cell_type": "code",
   "execution_count": 13,
   "metadata": {},
   "outputs": [
    {
     "name": "stdout",
     "output_type": "stream",
     "text": [
      "Third Line\tThird Line\n"
     ]
    }
   ],
   "source": [
    "print('Third Line', end='\\t')\n",
    "print('Third Line')"
   ]
  },
  {
   "cell_type": "code",
   "execution_count": 24,
   "metadata": {},
   "outputs": [
    {
     "name": "stdout",
     "output_type": "stream",
     "text": [
      "#########\n",
      "#\t#\n",
      "#\t#\n",
      "#\t#\n",
      "#\t#\n",
      "#\t#\n",
      "#########\n"
     ]
    }
   ],
   "source": [
    "print('#########')\n",
    "print('#', end='\\t')\n",
    "print('#')\n",
    "print('#', end='\\t')\n",
    "print('#')\n",
    "print('#', end='\\t')\n",
    "print('#')\n",
    "print('#', end='\\t')\n",
    "print('#')\n",
    "print('#', end='\\t')\n",
    "print('#')\n",
    "print('#########')"
   ]
  },
  {
   "cell_type": "code",
   "execution_count": 23,
   "metadata": {},
   "outputs": [
    {
     "name": "stdout",
     "output_type": "stream",
     "text": [
      "#\t#\n",
      "#\t#\n",
      "#\t#\n",
      "#########\n",
      "#\t#\n",
      "#\t#\n",
      "#\t#\n"
     ]
    }
   ],
   "source": [
    "print('#', end='\\t')\n",
    "print('#')\n",
    "print('#', end='\\t')\n",
    "print('#')\n",
    "print('#', end='\\t')\n",
    "print('#')\n",
    "print('#########')\n",
    "print('#', end='\\t')\n",
    "print('#')\n",
    "print('#', end='\\t')\n",
    "print('#')\n",
    "print('#', end='\\t')\n",
    "print('#')"
   ]
  }
 ],
 "metadata": {
  "kernelspec": {
   "display_name": "Python 3",
   "language": "python",
   "name": "python3"
  },
  "language_info": {
   "codemirror_mode": {
    "name": "ipython",
    "version": 3
   },
   "file_extension": ".py",
   "mimetype": "text/x-python",
   "name": "python",
   "nbconvert_exporter": "python",
   "pygments_lexer": "ipython3",
   "version": "3.8.2"
  }
 },
 "nbformat": 4,
 "nbformat_minor": 4
}
